{
 "cells": [
  {
   "cell_type": "markdown",
   "metadata": {},
   "source": [
    "<h1 style=\"text-align: center\">Real Time Pest Detection</h1>"
   ]
  },
  {
   "cell_type": "markdown",
   "metadata": {},
   "source": [
    "<h3>🔗 Model trained in Google Colab <a href=\"https://colab.research.google.com/drive/1SIJULkGKsbP2NDIS8XKh-YRto1obyZxu\">Link</a></h3>"
   ]
  },
  {
   "cell_type": "code",
   "execution_count": 1,
   "metadata": {},
   "outputs": [],
   "source": [
    "from ultralytics import YOLO\n",
    "import cv2\n",
    "import cvzone\n",
    "import math"
   ]
  },
  {
   "cell_type": "code",
   "execution_count": 2,
   "metadata": {},
   "outputs": [],
   "source": [
    "classNames = ['army worm', 'legume blister beetle', 'red spider', 'rice gall midge', 'rice leaf roller', 'rice leafhopper', 'rice water weevil', 'wheat phloeothrips', 'white backed plant hopper', 'yellow rice borer']"
   ]
  },
  {
   "cell_type": "code",
   "execution_count": 3,
   "metadata": {},
   "outputs": [],
   "source": [
    "model = YOLO(\"weights/best.pt\")"
   ]
  },
  {
   "cell_type": "code",
   "execution_count": 4,
   "metadata": {},
   "outputs": [],
   "source": [
    "# cap = cv2.VideoCapture(0)\n",
    "# cap.set(3, 1280)\n",
    "# cap.set(4, 720)"
   ]
  },
  {
   "cell_type": "code",
   "execution_count": 8,
   "metadata": {},
   "outputs": [],
   "source": [
    "cap = cv2.VideoCapture(\"video/Pest Data.mp4\")"
   ]
  },
  {
   "cell_type": "code",
   "execution_count": 9,
   "metadata": {},
   "outputs": [
    {
     "name": "stderr",
     "output_type": "stream",
     "text": [
      "\n",
      "0: 416x416 1 legume blister beetle, 1043.7ms\n",
      "Speed: 3.0ms preprocess, 1043.7ms inference, 0.0ms postprocess per image at shape (1, 3, 416, 416)\n",
      "\n",
      "0: 416x416 1 legume blister beetle, 1089.2ms\n",
      "Speed: 3.0ms preprocess, 1089.2ms inference, 0.0ms postprocess per image at shape (1, 3, 416, 416)\n",
      "\n",
      "0: 416x416 1 legume blister beetle, 1094.5ms\n",
      "Speed: 2.2ms preprocess, 1094.5ms inference, 0.0ms postprocess per image at shape (1, 3, 416, 416)\n",
      "\n",
      "0: 416x416 2 legume blister beetles, 1101.1ms\n",
      "Speed: 0.0ms preprocess, 1101.1ms inference, 0.0ms postprocess per image at shape (1, 3, 416, 416)\n",
      "\n",
      "0: 416x416 2 legume blister beetles, 1082.8ms\n",
      "Speed: 0.0ms preprocess, 1082.8ms inference, 1.5ms postprocess per image at shape (1, 3, 416, 416)\n",
      "\n",
      "0: 416x416 2 legume blister beetles, 1149.5ms\n",
      "Speed: 1.0ms preprocess, 1149.5ms inference, 1.0ms postprocess per image at shape (1, 3, 416, 416)\n",
      "\n",
      "0: 416x416 1 legume blister beetle, 1075.7ms\n",
      "Speed: 1.2ms preprocess, 1075.7ms inference, 15.6ms postprocess per image at shape (1, 3, 416, 416)\n",
      "\n",
      "0: 416x416 1 legume blister beetle, 1011.9ms\n",
      "Speed: 2.0ms preprocess, 1011.9ms inference, 0.0ms postprocess per image at shape (1, 3, 416, 416)\n",
      "\n",
      "0: 416x416 1 army worm, 1134.1ms\n",
      "Speed: 1.0ms preprocess, 1134.1ms inference, 0.0ms postprocess per image at shape (1, 3, 416, 416)\n",
      "\n",
      "0: 416x416 1 army worm, 1100.5ms\n",
      "Speed: 4.5ms preprocess, 1100.5ms inference, 0.0ms postprocess per image at shape (1, 3, 416, 416)\n",
      "\n",
      "0: 416x416 1 army worm, 1110.8ms\n",
      "Speed: 1.5ms preprocess, 1110.8ms inference, 0.0ms postprocess per image at shape (1, 3, 416, 416)\n",
      "\n",
      "0: 416x416 1 army worm, 1087.7ms\n",
      "Speed: 3.0ms preprocess, 1087.7ms inference, 0.0ms postprocess per image at shape (1, 3, 416, 416)\n",
      "\n",
      "0: 416x416 1 army worm, 1125.8ms\n",
      "Speed: 1.0ms preprocess, 1125.8ms inference, 0.0ms postprocess per image at shape (1, 3, 416, 416)\n"
     ]
    }
   ],
   "source": [
    "while True:\n",
    "    success, img = cap.read()\n",
    "    if not success:\n",
    "        break\n",
    "\n",
    "    results = model(img, stream=True)\n",
    "\n",
    "    batch_boxes = []\n",
    "    batch_texts = []\n",
    "\n",
    "    for r in results:\n",
    "        boxes = r.boxes\n",
    "        for box in boxes:\n",
    "            x1, y1, x2, y2 = map(int, box.xyxy[0])\n",
    "            w, h = x2 - x1, y2 - y1\n",
    "            conf = math.ceil((box.conf[0] * 100)) / 100\n",
    "            cls = int(box.cls[0])\n",
    "            batch_boxes.append((x1, y1, w, h))\n",
    "            batch_texts.append(f'{classNames[cls]}: {conf}')\n",
    "\n",
    "    for i, (x1, y1, w, h) in enumerate(batch_boxes):\n",
    "        cvzone.cornerRect(img, (x1, y1, w, h))\n",
    "        cvzone.putTextRect(img, batch_texts[i], (max(0, x1), max(35, y1)), scale=1, thickness=1)\n",
    "\n",
    "    cv2.imshow(\"Real Time Pest Detection\", img)\n",
    "    if cv2.waitKey(25) & 0xFF == ord('q'):\n",
    "        break\n",
    "\n",
    "cap.release()\n",
    "cv2.destroyAllWindows()"
   ]
  }
 ],
 "metadata": {
  "kernelspec": {
   "display_name": "likhon",
   "language": "python",
   "name": "python3"
  },
  "language_info": {
   "codemirror_mode": {
    "name": "ipython",
    "version": 3
   },
   "file_extension": ".py",
   "mimetype": "text/x-python",
   "name": "python",
   "nbconvert_exporter": "python",
   "pygments_lexer": "ipython3",
   "version": "3.8.18"
  }
 },
 "nbformat": 4,
 "nbformat_minor": 2
}
