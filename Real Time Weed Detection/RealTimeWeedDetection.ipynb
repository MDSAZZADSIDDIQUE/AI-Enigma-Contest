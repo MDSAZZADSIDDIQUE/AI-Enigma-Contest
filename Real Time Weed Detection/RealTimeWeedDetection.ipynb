{
 "cells": [
  {
   "cell_type": "markdown",
   "metadata": {},
   "source": [
    "<h1 style=\"text-align: center\">Real Time Weed Detection</h1>"
   ]
  },
  {
   "cell_type": "markdown",
   "metadata": {},
   "source": [
    "<h3>🔗 Model trained in Google Colab <a href=\"https://colab.research.google.com/drive/15wAU0nKhScpcOxk6ry-CQlQsvOdsF_R5\">Link</a></h3>"
   ]
  },
  {
   "cell_type": "markdown",
   "metadata": {},
   "source": [
    "<h3>🔗 Model Evaluated in Google Colab <a href=\"https://colab.research.google.com/drive/1OITmf7PNbD1dmjMDJBGMRazGlcGRqqD7\">Link</a></h3>"
   ]
  }
 ],
 "metadata": {
  "language_info": {
   "name": "python"
  }
 },
 "nbformat": 4,
 "nbformat_minor": 2
}
