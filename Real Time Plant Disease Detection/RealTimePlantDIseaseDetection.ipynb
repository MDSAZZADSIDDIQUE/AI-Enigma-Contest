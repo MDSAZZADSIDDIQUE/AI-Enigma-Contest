{
 "cells": [
  {
   "cell_type": "markdown",
   "metadata": {},
   "source": [
    "<h1 style=\"text-align: center\">Real Time Plant Disease Detection</h1>"
   ]
  },
  {
   "cell_type": "markdown",
   "metadata": {},
   "source": [
    "<p>Model Trained in Google Colab Link: <a>https://colab.research.google.com/drive/1SIJULkGKsbP2NDIS8XKh-YRto1obyZxu</a></p>"
   ]
  },
  {
   "cell_type": "code",
   "execution_count": 1,
   "metadata": {},
   "outputs": [],
   "source": [
    "from ultralytics import YOLO\n",
    "import cv2\n",
    "import cvzone\n",
    "import math"
   ]
  },
  {
   "cell_type": "code",
   "execution_count": 2,
   "metadata": {},
   "outputs": [],
   "source": [
    "classNames = [\n",
    "    \"Apple Scab Leaf\",\n",
    "    \"Apple leaf\",\n",
    "    \"Apple rust leaf\",\n",
    "    \"Bell_pepper leaf spot\",\n",
    "    \"Bell_pepper leaf\",\n",
    "    \"Blueberry leaf\",\n",
    "    \"Cherry leaf\",\n",
    "    \"Corn Gray leaf spot\",\n",
    "    \"Corn leaf blight\",\n",
    "    \"Corn rust leaf\",\n",
    "    \"Peach leaf\",\n",
    "    \"Potato leaf early blight\",\n",
    "    \"Potato leaf late blight\",\n",
    "    \"Potato leaf\",\n",
    "    \"Raspberry leaf\",\n",
    "    \"Soyabean leaf\",\n",
    "    \"Soybean leaf\",\n",
    "    \"Squash Powdery mildew leaf\",\n",
    "    \"Strawberry leaf\",\n",
    "    \"Tomato Early blight leaf\",\n",
    "    \"Tomato Septoria leaf spot\",\n",
    "    \"Tomato leaf bacterial spot\",\n",
    "    \"Tomato leaf late blight\",\n",
    "    \"Tomato leaf mosaic virus\",\n",
    "    \"Tomato leaf yellow virus\",\n",
    "    \"Tomato leaf\",\n",
    "    \"Tomato mold leaf\",\n",
    "    \"Tomato two spotted spider mites leaf\",\n",
    "    \"grape leaf black rot\",\n",
    "    \"grape leaf\",\n",
    "  ]"
   ]
  },
  {
   "cell_type": "code",
   "execution_count": 3,
   "metadata": {},
   "outputs": [],
   "source": [
    "model = YOLO(\"weights/best.pt\")"
   ]
  },
  {
   "cell_type": "code",
   "execution_count": 4,
   "metadata": {},
   "outputs": [],
   "source": [
    "# cap = cv2.VideoCapture(0)\n",
    "# cap.set(3, 1280)\n",
    "# cap.set(4, 720)"
   ]
  },
  {
   "cell_type": "code",
   "execution_count": 9,
   "metadata": {},
   "outputs": [],
   "source": [
    "cap = cv2.VideoCapture(\"video/Plant Disease Test Data.mp4\")"
   ]
  },
  {
   "cell_type": "code",
   "execution_count": 10,
   "metadata": {},
   "outputs": [
    {
     "name": "stderr",
     "output_type": "stream",
     "text": [
      "\n"
     ]
    },
    {
     "name": "stderr",
     "output_type": "stream",
     "text": [
      "0: 416x416 2 Tomato Septoria leaf spots, 1 Tomato leaf bacterial spot, 1102.8ms\n",
      "Speed: 0.0ms preprocess, 1102.8ms inference, 0.0ms postprocess per image at shape (1, 3, 416, 416)\n",
      "\n",
      "0: 416x416 2 Tomato Septoria leaf spots, 1 Tomato leaf bacterial spot, 1082.4ms\n",
      "Speed: 0.0ms preprocess, 1082.4ms inference, 0.0ms postprocess per image at shape (1, 3, 416, 416)\n",
      "\n",
      "0: 416x416 2 Tomato Septoria leaf spots, 1 Tomato leaf bacterial spot, 1060.6ms\n",
      "Speed: 0.0ms preprocess, 1060.6ms inference, 0.0ms postprocess per image at shape (1, 3, 416, 416)\n",
      "\n",
      "0: 416x416 2 Tomato Septoria leaf spots, 1 Tomato leaf bacterial spot, 1034.3ms\n",
      "Speed: 0.0ms preprocess, 1034.3ms inference, 0.0ms postprocess per image at shape (1, 3, 416, 416)\n",
      "\n",
      "0: 416x416 2 Tomato Septoria leaf spots, 1 Tomato leaf bacterial spot, 1047.6ms\n",
      "Speed: 0.0ms preprocess, 1047.6ms inference, 0.0ms postprocess per image at shape (1, 3, 416, 416)\n",
      "\n",
      "0: 416x416 2 Tomato Septoria leaf spots, 1 Tomato leaf bacterial spot, 1029.8ms\n",
      "Speed: 2.9ms preprocess, 1029.8ms inference, 15.6ms postprocess per image at shape (1, 3, 416, 416)\n",
      "\n",
      "0: 416x416 17 Blueberry leafs, 1079.6ms\n",
      "Speed: 0.0ms preprocess, 1079.6ms inference, 0.0ms postprocess per image at shape (1, 3, 416, 416)\n",
      "\n",
      "0: 416x416 17 Blueberry leafs, 1043.6ms\n",
      "Speed: 0.0ms preprocess, 1043.6ms inference, 0.0ms postprocess per image at shape (1, 3, 416, 416)\n",
      "\n",
      "0: 416x416 17 Blueberry leafs, 1064.1ms\n",
      "Speed: 1.0ms preprocess, 1064.1ms inference, 0.0ms postprocess per image at shape (1, 3, 416, 416)\n",
      "\n",
      "0: 416x416 17 Blueberry leafs, 1080.7ms\n",
      "Speed: 2.0ms preprocess, 1080.7ms inference, 1.1ms postprocess per image at shape (1, 3, 416, 416)\n",
      "\n",
      "0: 416x416 17 Blueberry leafs, 1034.0ms\n",
      "Speed: 2.0ms preprocess, 1034.0ms inference, 0.0ms postprocess per image at shape (1, 3, 416, 416)\n",
      "\n",
      "0: 416x416 25 Peach leafs, 1 Tomato leaf bacterial spot, 1064.3ms\n",
      "Speed: 0.0ms preprocess, 1064.3ms inference, 0.0ms postprocess per image at shape (1, 3, 416, 416)\n",
      "\n",
      "0: 416x416 25 Peach leafs, 1 Tomato leaf bacterial spot, 1008.3ms\n",
      "Speed: 0.0ms preprocess, 1008.3ms inference, 0.0ms postprocess per image at shape (1, 3, 416, 416)\n",
      "\n",
      "0: 416x416 25 Peach leafs, 1 Tomato leaf bacterial spot, 1029.1ms\n",
      "Speed: 3.0ms preprocess, 1029.1ms inference, 0.0ms postprocess per image at shape (1, 3, 416, 416)\n"
     ]
    }
   ],
   "source": [
    "while True:\n",
    "    success, img = cap.read()\n",
    "    if not success:\n",
    "        break\n",
    "\n",
    "    results = model(img, stream=True)\n",
    "\n",
    "    batch_boxes = []\n",
    "    batch_texts = []\n",
    "\n",
    "    for r in results:\n",
    "        boxes = r.boxes\n",
    "        for box in boxes:\n",
    "            x1, y1, x2, y2 = map(int, box.xyxy[0])\n",
    "            w, h = x2 - x1, y2 - y1\n",
    "            conf = math.ceil((box.conf[0] * 100)) / 100\n",
    "            cls = int(box.cls[0])\n",
    "            batch_boxes.append((x1, y1, w, h))\n",
    "            batch_texts.append(f'{classNames[cls]}: {conf}')\n",
    "\n",
    "    for i, (x1, y1, w, h) in enumerate(batch_boxes):\n",
    "        cvzone.cornerRect(img, (x1, y1, w, h))\n",
    "        cvzone.putTextRect(img, batch_texts[i], (max(0, x1), max(35, y1)), scale=1, thickness=1)\n",
    "\n",
    "    cv2.imshow(\"Real Time Plant Disease Detection\", img)\n",
    "    if cv2.waitKey(25) & 0xFF == ord('q'):\n",
    "        break\n",
    "\n",
    "cap.release()\n",
    "cv2.destroyAllWindows()"
   ]
  }
 ],
 "metadata": {
  "kernelspec": {
   "display_name": "Python 3 (ipykernel)",
   "language": "python",
   "name": "python3"
  },
  "language_info": {
   "codemirror_mode": {
    "name": "ipython",
    "version": 3
   },
   "file_extension": ".py",
   "mimetype": "text/x-python",
   "name": "python",
   "nbconvert_exporter": "python",
   "pygments_lexer": "ipython3",
   "version": "3.8.18"
  }
 },
 "nbformat": 4,
 "nbformat_minor": 2
}
