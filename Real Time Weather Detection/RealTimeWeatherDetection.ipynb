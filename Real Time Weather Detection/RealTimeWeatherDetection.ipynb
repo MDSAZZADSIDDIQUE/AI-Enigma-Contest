{
 "cells": [
  {
   "cell_type": "markdown",
   "metadata": {},
   "source": [
    "<h1 style=\"text-align: center\">Real Time Weather Detection</h1>"
   ]
  },
  {
   "cell_type": "markdown",
   "metadata": {},
   "source": [
    "<h3>🔗 Model trained in Google Colab <a href=\"https://colab.research.google.com/drive/127AF7hSAcBzBTGYqkpQcFlulGoqdg44p#scrollTo=emjVBLEcRwKk\">Link</a></h3>"
   ]
  },
  {
   "cell_type": "code",
   "execution_count": 7,
   "metadata": {},
   "outputs": [],
   "source": [
    "from ultralytics import YOLO\n",
    "import cv2\n",
    "import cvzone\n",
    "import math"
   ]
  },
  {
   "cell_type": "code",
   "execution_count": 8,
   "metadata": {},
   "outputs": [],
   "source": [
    "classNames = ['Altocumulus', 'Altostratus', 'Cirrocumulus', 'Cirrostratus', 'Cirrus', 'Contrails', 'Cumulonimbus', 'Cumulus', 'Nimbostratus', 'Stratocumulus', 'Stratus']"
   ]
  },
  {
   "cell_type": "code",
   "execution_count": 9,
   "metadata": {},
   "outputs": [],
   "source": [
    "model = YOLO(\"weights/best.pt\")"
   ]
  },
  {
   "cell_type": "code",
   "execution_count": 10,
   "metadata": {},
   "outputs": [],
   "source": [
    "# cap = cv2.VideoCapture(0)\n",
    "# cap.set(3, 1280)\n",
    "# cap.set(4, 720)"
   ]
  },
  {
   "cell_type": "code",
   "execution_count": 13,
   "metadata": {},
   "outputs": [],
   "source": [
    "cap = cv2.VideoCapture(\"video/Weather Data.mp4\")"
   ]
  },
  {
   "cell_type": "code",
   "execution_count": 14,
   "metadata": {},
   "outputs": [
    {
     "name": "stderr",
     "output_type": "stream",
     "text": [
      "\n"
     ]
    },
    {
     "name": "stderr",
     "output_type": "stream",
     "text": [
      "0: 640x640 1 Nimbostratus, 2217.1ms\n",
      "Speed: 5.0ms preprocess, 2217.1ms inference, 1.0ms postprocess per image at shape (1, 3, 640, 640)\n",
      "\n",
      "0: 640x640 1 Nimbostratus, 2308.1ms\n",
      "Speed: 5.0ms preprocess, 2308.1ms inference, 0.0ms postprocess per image at shape (1, 3, 640, 640)\n",
      "\n",
      "0: 640x640 1 Nimbostratus, 2377.9ms\n",
      "Speed: 3.7ms preprocess, 2377.9ms inference, 0.0ms postprocess per image at shape (1, 3, 640, 640)\n",
      "\n",
      "0: 640x640 1 Cirrus, 2427.2ms\n",
      "Speed: 2.2ms preprocess, 2427.2ms inference, 0.0ms postprocess per image at shape (1, 3, 640, 640)\n",
      "\n",
      "0: 640x640 1 Cirrus, 2339.9ms\n",
      "Speed: 6.0ms preprocess, 2339.9ms inference, 1.7ms postprocess per image at shape (1, 3, 640, 640)\n",
      "\n",
      "0: 640x640 1 Cirrus, 2465.1ms\n",
      "Speed: 0.0ms preprocess, 2465.1ms inference, 0.0ms postprocess per image at shape (1, 3, 640, 640)\n",
      "\n",
      "0: 640x640 1 Nimbostratus, 2312.2ms\n",
      "Speed: 0.0ms preprocess, 2312.2ms inference, 0.0ms postprocess per image at shape (1, 3, 640, 640)\n",
      "\n",
      "0: 640x640 1 Nimbostratus, 2344.2ms\n",
      "Speed: 0.0ms preprocess, 2344.2ms inference, 2.2ms postprocess per image at shape (1, 3, 640, 640)\n",
      "\n",
      "0: 640x640 1 Cirrostratus, 2259.2ms\n",
      "Speed: 1.9ms preprocess, 2259.2ms inference, 0.0ms postprocess per image at shape (1, 3, 640, 640)\n",
      "\n",
      "0: 640x640 1 Cirrostratus, 2461.0ms\n",
      "Speed: 2.0ms preprocess, 2461.0ms inference, 0.0ms postprocess per image at shape (1, 3, 640, 640)\n",
      "\n",
      "0: 640x640 1 Cirrostratus, 2320.4ms\n",
      "Speed: 9.4ms preprocess, 2320.4ms inference, 0.0ms postprocess per image at shape (1, 3, 640, 640)\n",
      "\n",
      "0: 640x640 1 Cirrostratus, 2402.4ms\n",
      "Speed: 0.0ms preprocess, 2402.4ms inference, 0.0ms postprocess per image at shape (1, 3, 640, 640)\n",
      "\n",
      "0: 640x640 1 Cirrostratus, 2409.9ms\n",
      "Speed: 6.6ms preprocess, 2409.9ms inference, 2.0ms postprocess per image at shape (1, 3, 640, 640)\n"
     ]
    }
   ],
   "source": [
    "while True:\n",
    "    success, img = cap.read()\n",
    "    if not success:\n",
    "        break\n",
    "\n",
    "    results = model(img, stream=True)\n",
    "\n",
    "    batch_boxes = []\n",
    "    batch_texts = []\n",
    "\n",
    "    for r in results:\n",
    "        boxes = r.boxes\n",
    "        for box in boxes:\n",
    "            x1, y1, x2, y2 = map(int, box.xyxy[0])\n",
    "            w, h = x2 - x1, y2 - y1\n",
    "            conf = math.ceil((box.conf[0] * 100)) / 100\n",
    "            cls = int(box.cls[0])\n",
    "            batch_boxes.append((x1, y1, w, h))\n",
    "            batch_texts.append(f'{classNames[cls]}: {conf}')\n",
    "\n",
    "    for i, (x1, y1, w, h) in enumerate(batch_boxes):\n",
    "        cvzone.cornerRect(img, (x1, y1, w, h))\n",
    "        cvzone.putTextRect(img, batch_texts[i], (max(0, x1), max(35, y1)), scale=1, thickness=1)\n",
    "\n",
    "    cv2.imshow(\"Real Time Plant Disease Detection\", img)\n",
    "    if cv2.waitKey(25) & 0xFF == ord('q'):\n",
    "        break\n",
    "\n",
    "cap.release()\n",
    "cv2.destroyAllWindows()"
   ]
  }
 ],
 "metadata": {
  "kernelspec": {
   "display_name": "likhon",
   "language": "python",
   "name": "python3"
  },
  "language_info": {
   "codemirror_mode": {
    "name": "ipython",
    "version": 3
   },
   "file_extension": ".py",
   "mimetype": "text/x-python",
   "name": "python",
   "nbconvert_exporter": "python",
   "pygments_lexer": "ipython3",
   "version": "3.8.18"
  }
 },
 "nbformat": 4,
 "nbformat_minor": 2
}
