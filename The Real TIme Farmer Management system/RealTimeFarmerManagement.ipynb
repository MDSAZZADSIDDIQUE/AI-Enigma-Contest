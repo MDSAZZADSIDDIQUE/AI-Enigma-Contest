{
 "cells": [
  {
   "cell_type": "markdown",
   "metadata": {},
   "source": [
    "<h1 style=\"text-align: center\">Real Time Farmer Counting for Specific Zones</h1>"
   ]
  },
  {
   "cell_type": "code",
   "execution_count": null,
   "metadata": {},
   "outputs": [],
   "source": [
    "from ultralytics import YOLO\n",
    "import cv2\n",
    "import cvzone\n",
    "import math\n",
    "from sort import *"
   ]
  },
  {
   "cell_type": "code",
   "execution_count": null,
   "metadata": {},
   "outputs": [],
   "source": [
    "classNames = [\"person\", \"bicycle\", \"car\", \"motorbike\", \"aeroplane\", \"bus\", \"train\", \"truck\", \"boat\",\n",
    "              \"traffic light\", \"fire hydrant\", \"stop sign\", \"parking meter\", \"bench\", \"bird\", \"cat\",\n",
    "              \"dog\", \"horse\", \"sheep\", \"cow\", \"elephant\", \"bear\", \"zebra\", \"giraffe\", \"backpack\", \"umbrella\",\n",
    "              \"handbag\", \"tie\", \"suitcase\", \"frisbee\", \"skis\", \"snowboard\", \"sports ball\", \"kite\", \"baseball bat\",\n",
    "              \"baseball glove\", \"skateboard\", \"surfboard\", \"tennis racket\", \"bottle\", \"wine glass\", \"cup\",\n",
    "              \"fork\", \"knife\", \"spoon\", \"bowl\", \"banana\", \"apple\", \"sandwich\", \"orange\", \"broccoli\",\n",
    "              \"carrot\", \"hot dog\", \"pizza\", \"donut\", \"cake\", \"chair\", \"sofa\", \"pottedplant\", \"bed\",\n",
    "              \"diningtable\", \"toilet\", \"tvmonitor\", \"laptop\", \"mouse\", \"remote\", \"keyboard\", \"cell phone\",\n",
    "              \"microwave\", \"oven\", \"toaster\", \"sink\", \"refrigerator\", \"book\", \"clock\", \"vase\", \"scissors\",\n",
    "              \"teddy bear\", \"hair drier\", \"toothbrush\"\n",
    "              ]"
   ]
  },
  {
   "cell_type": "code",
   "execution_count": null,
   "metadata": {},
   "outputs": [],
   "source": [
    "model = YOLO(\"weights/yolov8l.pt\")"
   ]
  },
  {
   "cell_type": "code",
   "execution_count": null,
   "metadata": {},
   "outputs": [],
   "source": [
    "cap = cv2.VideoCapture(\"video/Farmers.mp4\")\n"
   ]
  },
  {
   "cell_type": "code",
   "execution_count": null,
   "metadata": {},
   "outputs": [],
   "source": [
    "mask = cv2.imread(\"masks/Field Mask.mp4\")"
   ]
  },
  {
   "cell_type": "code",
   "execution_count": null,
   "metadata": {},
   "outputs": [
    {
     "name": "stderr",
     "output_type": "stream",
     "text": [
      "\n"
     ]
    },
    {
     "name": "stderr",
     "output_type": "stream",
     "text": [
      "0: 320x640 7 persons, 1 horse, 1286.4ms\n",
      "Speed: 0.0ms preprocess, 1286.4ms inference, 0.0ms postprocess per image at shape (1, 3, 320, 640)\n",
      "\n",
      "0: 320x640 7 persons, 1 horse, 1274.8ms\n",
      "Speed: 2.0ms preprocess, 1274.8ms inference, 0.0ms postprocess per image at shape (1, 3, 320, 640)\n",
      "\n",
      "0: 320x640 7 persons, 1 horse, 1183.7ms\n",
      "Speed: 0.0ms preprocess, 1183.7ms inference, 0.0ms postprocess per image at shape (1, 3, 320, 640)\n",
      "\n",
      "0: 320x640 7 persons, 1 horse, 1408.0ms\n",
      "Speed: 0.0ms preprocess, 1408.0ms inference, 14.7ms postprocess per image at shape (1, 3, 320, 640)\n",
      "\n",
      "0: 320x640 7 persons, 1 horse, 1336.2ms\n",
      "Speed: 12.4ms preprocess, 1336.2ms inference, 0.0ms postprocess per image at shape (1, 3, 320, 640)\n"
     ]
    }
   ],
   "source": [
    "tracker = Sort(max_age=20, min_hits=3, iou_threshold=0.3)\n",
    "unique_ids = set()\n",
    "\n",
    "while True:\n",
    "    success, img = cap.read()\n",
    "    # imgRegion = cv2.bitwise_and(img, mask)\n",
    "    results = model(img, stream=True)\n",
    "    detections = []\n",
    "\n",
    "    for r in results:\n",
    "        for box in r.boxes:\n",
    "            x1, y1, x2, y2 = map(int, box.xyxy[0])\n",
    "            w, h = x2 - x1, y2 - y1\n",
    "            cvzone.cornerRect(img, (x1, y1, w, h))\n",
    "            conf = math.ceil((box.conf[0] * 100)) / 100\n",
    "            cls = int(box.cls[0])\n",
    "            currentArray = [x1, y1, x2, y2, conf]\n",
    "            detections.append(currentArray)\n",
    "\n",
    "    resultsTracker = tracker.update(np.array(detections))\n",
    "\n",
    "    for x1, y1, x2, y2, id in resultsTracker:\n",
    "        x1, y1, x2, y2 = map(int, [x1, y1, x2, y2])\n",
    "        w, h = x2 - x1, y2 - y1\n",
    "        cvzone.cornerRect(img, (x1, y1, w, h), l=9, rt=2, colorR=(255, 0, 255))\n",
    "        cvzone.putTextRect(img, f'Farmer ID:{int(id)}', (max(0, x1), max(35, y1)),\n",
    "                           scale=2, thickness=3, offset=10)\n",
    "\n",
    "        unique_ids.add(id)\n",
    "\n",
    "    cv2.putText(img, f\"Total Farmers: {len(unique_ids)}\", (50, 50), cv2.FONT_HERSHEY_PLAIN, 3, (255, 0, 255), 3)\n",
    "\n",
    "    cv2.imshow(\"Real Time Fruit Counting\", img)\n",
    "    if cv2.waitKey(25) & 0xFF == ord('q'):\n",
    "        break\n",
    "\n",
    "cap.release()\n",
    "cv2.destroyAllWindows()\n"
   ]
  }
 ],
 "metadata": {
  "kernelspec": {
   "display_name": "likhon",
   "language": "python",
   "name": "python3"
  },
  "language_info": {
   "codemirror_mode": {
    "name": "ipython",
    "version": 3
   },
   "file_extension": ".py",
   "mimetype": "text/x-python",
   "name": "python",
   "nbconvert_exporter": "python",
   "pygments_lexer": "ipython3",
   "version": "3.8.18"
  }
 },
 "nbformat": 4,
 "nbformat_minor": 2
}
