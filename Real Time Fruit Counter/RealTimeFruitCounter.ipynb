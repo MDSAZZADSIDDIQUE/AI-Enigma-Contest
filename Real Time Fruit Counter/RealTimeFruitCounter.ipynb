{
 "cells": [
  {
   "cell_type": "markdown",
   "metadata": {},
   "source": [
    "<h1 style=\"text-align: center\">Real Time Fruit Counter</h1>"
   ]
  },
  {
   "cell_type": "markdown",
   "metadata": {},
   "source": [
    "<p>Model Trained in Google Colab <a href=\"https://colab.research.google.com/drive/1W9cOFxjz2n3k_7QvDLmzH3Jau7uiJ39I\">Link</a></p>"
   ]
  },
  {
   "cell_type": "code",
   "execution_count": 8,
   "metadata": {},
   "outputs": [],
   "source": [
    "from ultralytics import YOLO\n",
    "import cv2\n",
    "import cvzone\n",
    "import math\n",
    "import numpy as np\n",
    "from sort import Sort"
   ]
  },
  {
   "cell_type": "code",
   "execution_count": 9,
   "metadata": {},
   "outputs": [],
   "source": [
    "classNames = ['background', 'mango']"
   ]
  },
  {
   "cell_type": "code",
   "execution_count": 10,
   "metadata": {},
   "outputs": [],
   "source": [
    "model = YOLO(\"weights/best.pt\")"
   ]
  },
  {
   "cell_type": "code",
   "execution_count": 11,
   "metadata": {},
   "outputs": [],
   "source": [
    "# cap = cv2.VideoCapture(0)\n",
    "# cap.set(3, 1280)\n",
    "# cap.set(4, 720)"
   ]
  },
  {
   "cell_type": "code",
   "execution_count": 14,
   "metadata": {},
   "outputs": [],
   "source": [
    "cap = cv2.VideoCapture(\"video\\Fruits Data.mp4\")"
   ]
  },
  {
   "cell_type": "code",
   "execution_count": 15,
   "metadata": {},
   "outputs": [
    {
     "name": "stderr",
     "output_type": "stream",
     "text": [
      "\n"
     ]
    },
    {
     "name": "stderr",
     "output_type": "stream",
     "text": [
      "0: 640x640 1 0, 2291.9ms\n",
      "Speed: 0.0ms preprocess, 2291.9ms inference, 0.0ms postprocess per image at shape (1, 3, 640, 640)\n",
      "\n",
      "0: 640x640 1 0, 2300.2ms\n",
      "Speed: 5.0ms preprocess, 2300.2ms inference, 0.0ms postprocess per image at shape (1, 3, 640, 640)\n",
      "\n",
      "0: 640x640 1 0, 2361.2ms\n",
      "Speed: 4.0ms preprocess, 2361.2ms inference, 0.0ms postprocess per image at shape (1, 3, 640, 640)\n",
      "\n",
      "0: 640x640 1 0, 2344.1ms\n",
      "Speed: 2.3ms preprocess, 2344.1ms inference, 0.0ms postprocess per image at shape (1, 3, 640, 640)\n",
      "\n",
      "0: 640x640 1 0, 2295.9ms\n",
      "Speed: 2.7ms preprocess, 2295.9ms inference, 0.0ms postprocess per image at shape (1, 3, 640, 640)\n",
      "\n",
      "0: 640x640 1 0, 2297.6ms\n",
      "Speed: 3.0ms preprocess, 2297.6ms inference, 1.0ms postprocess per image at shape (1, 3, 640, 640)\n",
      "\n",
      "0: 640x640 1 0, 2276.8ms\n",
      "Speed: 5.0ms preprocess, 2276.8ms inference, 1.0ms postprocess per image at shape (1, 3, 640, 640)\n",
      "\n",
      "0: 640x640 1 0, 2252.0ms\n",
      "Speed: 2.5ms preprocess, 2252.0ms inference, 0.6ms postprocess per image at shape (1, 3, 640, 640)\n",
      "\n",
      "0: 640x640 1 0, 2312.6ms\n",
      "Speed: 4.0ms preprocess, 2312.6ms inference, 0.0ms postprocess per image at shape (1, 3, 640, 640)\n",
      "\n",
      "0: 640x640 1 0, 2298.1ms\n",
      "Speed: 0.0ms preprocess, 2298.1ms inference, 1.0ms postprocess per image at shape (1, 3, 640, 640)\n",
      "\n",
      "0: 640x640 1 0, 2329.9ms\n",
      "Speed: 2.5ms preprocess, 2329.9ms inference, 1.2ms postprocess per image at shape (1, 3, 640, 640)\n",
      "\n",
      "0: 640x640 1 0, 2258.3ms\n",
      "Speed: 2.1ms preprocess, 2258.3ms inference, 0.0ms postprocess per image at shape (1, 3, 640, 640)\n",
      "\n",
      "0: 640x640 1 0, 2326.0ms\n",
      "Speed: 4.0ms preprocess, 2326.0ms inference, 0.0ms postprocess per image at shape (1, 3, 640, 640)\n",
      "\n",
      "0: 640x640 1 0, 2358.8ms\n",
      "Speed: 4.0ms preprocess, 2358.8ms inference, 0.0ms postprocess per image at shape (1, 3, 640, 640)\n",
      "\n",
      "0: 640x640 1 0, 2326.3ms\n",
      "Speed: 4.0ms preprocess, 2326.3ms inference, 0.0ms postprocess per image at shape (1, 3, 640, 640)\n",
      "\n",
      "0: 640x640 1 0, 2292.8ms\n",
      "Speed: 4.0ms preprocess, 2292.8ms inference, 0.0ms postprocess per image at shape (1, 3, 640, 640)\n",
      "\n",
      "0: 640x640 1 0, 2293.0ms\n",
      "Speed: 4.0ms preprocess, 2293.0ms inference, 0.0ms postprocess per image at shape (1, 3, 640, 640)\n",
      "\n",
      "0: 640x640 1 0, 2304.3ms\n",
      "Speed: 4.0ms preprocess, 2304.3ms inference, 2.0ms postprocess per image at shape (1, 3, 640, 640)\n",
      "\n",
      "0: 640x640 1 0, 2373.4ms\n",
      "Speed: 4.0ms preprocess, 2373.4ms inference, 15.2ms postprocess per image at shape (1, 3, 640, 640)\n",
      "\n",
      "0: 640x640 1 0, 2339.6ms\n",
      "Speed: 4.0ms preprocess, 2339.6ms inference, 2.0ms postprocess per image at shape (1, 3, 640, 640)\n",
      "\n",
      "0: 640x640 1 0, 2270.9ms\n",
      "Speed: 0.0ms preprocess, 2270.9ms inference, 0.0ms postprocess per image at shape (1, 3, 640, 640)\n",
      "\n",
      "0: 640x640 1 0, 2275.8ms\n",
      "Speed: 4.0ms preprocess, 2275.8ms inference, 0.2ms postprocess per image at shape (1, 3, 640, 640)\n",
      "\n",
      "0: 640x640 1 0, 2292.6ms\n",
      "Speed: 4.0ms preprocess, 2292.6ms inference, 16.6ms postprocess per image at shape (1, 3, 640, 640)\n"
     ]
    }
   ],
   "source": [
    "\n",
    "tracker = Sort(max_age=20, min_hits=3, iou_threshold=0.3)\n",
    "unique_ids = set()\n",
    "\n",
    "while True:\n",
    "    success, img = cap.read()\n",
    "    results = model(img, stream=True)\n",
    "    detections = []\n",
    "\n",
    "    for r in results:\n",
    "        for box in r.boxes:\n",
    "            x1, y1, x2, y2 = map(int, box.xyxy[0])\n",
    "            w, h = x2 - x1, y2 - y1\n",
    "            cvzone.cornerRect(img, (x1, y1, w, h))\n",
    "            conf = math.ceil((box.conf[0] * 100)) / 100\n",
    "            cls = int(box.cls[0])\n",
    "            currentArray = [x1, y1, x2, y2, conf]\n",
    "            detections.append(currentArray)\n",
    "\n",
    "    resultsTracker = tracker.update(np.array(detections))\n",
    "\n",
    "    for x1, y1, x2, y2, id in resultsTracker:\n",
    "        x1, y1, x2, y2 = map(int, [x1, y1, x2, y2])\n",
    "        w, h = x2 - x1, y2 - y1\n",
    "        cvzone.cornerRect(img, (x1, y1, w, h), l=9, rt=2, colorR=(255, 0, 255))\n",
    "        cvzone.putTextRect(img, f'Mango ID:{int(id)}', (max(0, x1), max(35, y1)),\n",
    "                           scale=2, thickness=3, offset=10)\n",
    "\n",
    "        unique_ids.add(id)\n",
    "\n",
    "    cv2.putText(img, f\"Total Fruits: {len(unique_ids)}\", (50, 50), cv2.FONT_HERSHEY_PLAIN, 3, (50, 50, 255), 3)\n",
    "\n",
    "    cv2.imshow(\"Real Time Fruit Counting\", img)\n",
    "    if cv2.waitKey(25) & 0xFF == ord('q'):\n",
    "        break\n",
    "\n",
    "cap.release()\n",
    "cv2.destroyAllWindows()\n"
   ]
  }
 ],
 "metadata": {
  "kernelspec": {
   "display_name": "Python 3 (ipykernel)",
   "language": "python",
   "name": "python3"
  },
  "language_info": {
   "codemirror_mode": {
    "name": "ipython",
    "version": 3
   },
   "file_extension": ".py",
   "mimetype": "text/x-python",
   "name": "python",
   "nbconvert_exporter": "python",
   "pygments_lexer": "ipython3",
   "version": "3.8.18"
  }
 },
 "nbformat": 4,
 "nbformat_minor": 2
}
